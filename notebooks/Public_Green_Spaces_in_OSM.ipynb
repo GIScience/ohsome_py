{
 "cells": [
  {
   "cell_type": "markdown",
   "metadata": {},
   "source": [
    "# How are Public Urban Green Spaces mapped in OSM?"
   ]
  },
  {
   "cell_type": "markdown",
   "metadata": {},
   "source": [
    "In this analysis we will look at how urban green spaces such as parks are mapped in OSM in three different cities: **London, Berlin** and **Tokyo**. The boundaries of the three cities are defined as circles around the center of the cities with a radius of 10 km. "
   ]
  },
  {
   "cell_type": "code",
   "execution_count": 32,
   "metadata": {},
   "outputs": [],
   "source": [
    "radius = 5000\n",
    "cities = {\"Tokyo\": [139.7594549, 35.6828387, radius], # lon, lat, radius\n",
    "          #\"Berlin\": [13.3888599, 52.5170365, radius],\n",
    "          \"London\": [-0.1276474, 51.5073219, radius],\n",
    "          #\"Istanbul\": [28.979530, 41.015137, radius],\n",
    "          \"Vienna\": [16.373819, 48.208176, radius], \n",
    "          \"Kathmandu\": [85.300140, 27.700769, radius]\n",
    "         }"
   ]
  },
  {
   "cell_type": "markdown",
   "metadata": {},
   "source": [
    "There many different tags to map public green spaces in OSM. In this analysis, we will focus on: "
   ]
  },
  {
   "cell_type": "code",
   "execution_count": 2,
   "metadata": {},
   "outputs": [],
   "source": [
    "tags = [\"leisure=park\", \"leisure=garden\", \"landuse=grass\", \"landuse=village_green\"]"
   ]
  },
  {
   "cell_type": "markdown",
   "metadata": {},
   "source": [
    "##### Import modules"
   ]
  },
  {
   "cell_type": "code",
   "execution_count": 4,
   "metadata": {},
   "outputs": [],
   "source": [
    "import ohsome\n",
    "import geopandas as gpd\n",
    "import pandas as pd\n",
    "import yaml\n",
    "from utils import load_config_yaml\n",
    "import matplotlib.pyplot as plt\n",
    "import mplleaflet\n",
    "import seaborn as sns\n",
    "from shapely.geometry import box, Polygon, MultiPolygon\n",
    "import utm"
   ]
  },
  {
   "cell_type": "code",
   "execution_count": 5,
   "metadata": {},
   "outputs": [],
   "source": [
    "%load_ext autoreload\n",
    "%autoreload 2\n",
    "%matplotlib inline"
   ]
  },
  {
   "cell_type": "code",
   "execution_count": 6,
   "metadata": {},
   "outputs": [],
   "source": [
    "sns.set_theme(style=\"ticks\", palette=\"pastel\")"
   ]
  },
  {
   "cell_type": "markdown",
   "metadata": {},
   "source": [
    "## 1. Which tags are used to map public green spaces? "
   ]
  },
  {
   "cell_type": "markdown",
   "metadata": {},
   "source": [
    "First, we will look at how often the different tags occur within the cities and how it evolved over time. "
   ]
  },
  {
   "cell_type": "code",
   "execution_count": 7,
   "metadata": {},
   "outputs": [],
   "source": [
    "client = ohsome.OhsomeClient()"
   ]
  },
  {
   "cell_type": "code",
   "execution_count": 8,
   "metadata": {},
   "outputs": [],
   "source": [
    "time =  \"{}/{}/P1Y\".format(client.start_timestamp, client.end_timestamp)"
   ]
  },
  {
   "cell_type": "code",
   "execution_count": 33,
   "metadata": {},
   "outputs": [
    {
     "name": "stdout",
     "output_type": "stream",
     "text": [
      "Processing leisure=park ...\n",
      "Processing leisure=garden ...\n",
      "Processing landuse=grass ...\n",
      "Processing landuse=village_green ...\n"
     ]
    }
   ],
   "source": [
    "data = []\n",
    "for tag in tags:\n",
    "    print(\"Processing {} ...\".format(tag))\n",
    "    response = client.elements.count.groupBy.boundary.post(bcircles=cities, \n",
    "                                                       time=time, \n",
    "                                                       filter=\"{} and type:way\".format(tag))\n",
    "    data.append(response.as_dataframe().rename(columns={\"value\":tag}))\n",
    "greenspace_count = pd.concat(data, axis=1)"
   ]
  },
  {
   "cell_type": "markdown",
   "metadata": {},
   "source": [
    "The dataframe contains a `MultiIndex` based on the city and the timestamp to identify the rows. "
   ]
  },
  {
   "cell_type": "code",
   "execution_count": 34,
   "metadata": {},
   "outputs": [
    {
     "data": {
      "text/html": [
       "<div>\n",
       "<style scoped>\n",
       "    .dataframe tbody tr th:only-of-type {\n",
       "        vertical-align: middle;\n",
       "    }\n",
       "\n",
       "    .dataframe tbody tr th {\n",
       "        vertical-align: top;\n",
       "    }\n",
       "\n",
       "    .dataframe thead th {\n",
       "        text-align: right;\n",
       "    }\n",
       "</style>\n",
       "<table border=\"1\" class=\"dataframe\">\n",
       "  <thead>\n",
       "    <tr style=\"text-align: right;\">\n",
       "      <th></th>\n",
       "      <th></th>\n",
       "      <th>leisure=park</th>\n",
       "      <th>leisure=garden</th>\n",
       "      <th>landuse=grass</th>\n",
       "      <th>landuse=village_green</th>\n",
       "    </tr>\n",
       "    <tr>\n",
       "      <th>boundary</th>\n",
       "      <th>timestamp</th>\n",
       "      <th></th>\n",
       "      <th></th>\n",
       "      <th></th>\n",
       "      <th></th>\n",
       "    </tr>\n",
       "  </thead>\n",
       "  <tbody>\n",
       "    <tr>\n",
       "      <th rowspan=\"5\" valign=\"top\">Berlin</th>\n",
       "      <th>2007-10-08 00:00:00+00:00</th>\n",
       "      <td>45.0</td>\n",
       "      <td>2.0</td>\n",
       "      <td>0.0</td>\n",
       "      <td>0.0</td>\n",
       "    </tr>\n",
       "    <tr>\n",
       "      <th>2008-10-08 00:00:00+00:00</th>\n",
       "      <td>263.0</td>\n",
       "      <td>4.0</td>\n",
       "      <td>40.0</td>\n",
       "      <td>57.0</td>\n",
       "    </tr>\n",
       "    <tr>\n",
       "      <th>2009-10-08 00:00:00+00:00</th>\n",
       "      <td>310.0</td>\n",
       "      <td>6.0</td>\n",
       "      <td>82.0</td>\n",
       "      <td>59.0</td>\n",
       "    </tr>\n",
       "    <tr>\n",
       "      <th>2010-10-08 00:00:00+00:00</th>\n",
       "      <td>427.0</td>\n",
       "      <td>18.0</td>\n",
       "      <td>196.0</td>\n",
       "      <td>126.0</td>\n",
       "    </tr>\n",
       "    <tr>\n",
       "      <th>2011-10-08 00:00:00+00:00</th>\n",
       "      <td>465.0</td>\n",
       "      <td>40.0</td>\n",
       "      <td>259.0</td>\n",
       "      <td>154.0</td>\n",
       "    </tr>\n",
       "  </tbody>\n",
       "</table>\n",
       "</div>"
      ],
      "text/plain": [
       "                                    leisure=park  leisure=garden  \\\n",
       "boundary timestamp                                                 \n",
       "Berlin   2007-10-08 00:00:00+00:00          45.0             2.0   \n",
       "         2008-10-08 00:00:00+00:00         263.0             4.0   \n",
       "         2009-10-08 00:00:00+00:00         310.0             6.0   \n",
       "         2010-10-08 00:00:00+00:00         427.0            18.0   \n",
       "         2011-10-08 00:00:00+00:00         465.0            40.0   \n",
       "\n",
       "                                    landuse=grass  landuse=village_green  \n",
       "boundary timestamp                                                        \n",
       "Berlin   2007-10-08 00:00:00+00:00            0.0                    0.0  \n",
       "         2008-10-08 00:00:00+00:00           40.0                   57.0  \n",
       "         2009-10-08 00:00:00+00:00           82.0                   59.0  \n",
       "         2010-10-08 00:00:00+00:00          196.0                  126.0  \n",
       "         2011-10-08 00:00:00+00:00          259.0                  154.0  "
      ]
     },
     "execution_count": 34,
     "metadata": {},
     "output_type": "execute_result"
    }
   ],
   "source": [
    "greenspace_count.head()"
   ]
  },
  {
   "cell_type": "markdown",
   "metadata": {},
   "source": [
    "### 1.0 How many public green spaces have been mapped in each city so far?"
   ]
  },
  {
   "cell_type": "code",
   "execution_count": 35,
   "metadata": {},
   "outputs": [],
   "source": [
    "latest_timestamp = greenspace_count.index.get_level_values(1)[-1]\n",
    "latest = greenspace_count.loc[(slice(None), [latest_timestamp]), :].droplevel(1)"
   ]
  },
  {
   "cell_type": "code",
   "execution_count": 36,
   "metadata": {},
   "outputs": [
    {
     "data": {
      "text/plain": [
       "<AxesSubplot:xlabel='boundary', ylabel='Number of mapped green spaces'>"
      ]
     },
     "execution_count": 36,
     "metadata": {},
     "output_type": "execute_result"
    },
    {
     "data": {
      "image/png": "[encoded data removed]",
      "text/plain": [
       "<Figure size 432x288 with 1 Axes>"
      ]
     },
     "metadata": {},
     "output_type": "display_data"
    }
   ],
   "source": [
    "latest.sum(axis=1).plot(kind=\"bar\", ylabel=\"Number of mapped green spaces\")"
   ]
  },
  {
   "cell_type": "markdown",
   "metadata": {},
   "source": [
    "### 1.1 Which tags have been used to map public green spaces in each city?"
   ]
  },
  {
   "cell_type": "code",
   "execution_count": 40,
   "metadata": {},
   "outputs": [
    {
     "name": "stderr",
     "output_type": "stream",
     "text": [
      "<ipython-input-40-cd6a9baef50c>:4: MatplotlibDeprecationWarning: savefig() got unexpected keyword argument \"tight_layout\" which is no longer supported as of 3.3 and will become an error two minor releases later\n",
      "  plt.savefig(\"./green_spaces.jpg\", dpi=300, tight_layout=True)\n"
     ]
    },
    {
     "data": {
      "image/png": "[encoded data removed]",
      "text/plain": [
       "<Figure size 432x252 with 1 Axes>"
      ]
     },
     "metadata": {},
     "output_type": "display_data"
    }
   ],
   "source": [
    "latest.plot(kind=\"bar\", figsize=(6,3.5), xlabel=\"\", ylabel=\"Number of mapped green spaces\")\n",
    "plt.xticks(rotation=0)\n",
    "plt.tight_layout()\n",
    "plt.savefig(\"./green_spaces.jpg\", dpi=300, tight_layout=True)"
   ]
  },
  {
   "cell_type": "markdown",
   "metadata": {},
   "source": [
    "### 1.2 How did this change over time? "
   ]
  },
  {
   "cell_type": "code",
   "execution_count": 13,
   "metadata": {},
   "outputs": [
    {
     "data": {
      "text/plain": [
       "<AxesSubplot:title={'center':'Vienna'}, xlabel='timestamp'>"
      ]
     },
     "execution_count": 13,
     "metadata": {},
     "output_type": "execute_result"
    },
    {
     "data": {
      "image/png": "[encoded data removed]",
      "text/plain": [
       "<Figure size 1008x720 with 4 Axes>"
      ]
     },
     "metadata": {},
     "output_type": "display_data"
    }
   ],
   "source": [
    "fig, axes = plt.subplots(2,2, figsize=(14,10), sharey=True, sharex=True)\n",
    "greenspace_count.loc[\"Tokyo\", :].plot(kind=\"line\", ax=axes[0][0], legend=False, title=\"Tokyo\")\n",
    "greenspace_count.loc[\"London\", :].plot(kind=\"line\", ax=axes[0][1], legend=False, title=\"London\")\n",
    "greenspace_count.loc[\"Kathmandu\", :].plot(kind=\"line\", ax=axes[1][0], legend=False, title=\"Kathmandu\")\n",
    "greenspace_count.loc[\"Vienna\", :].plot(kind=\"line\", ax=axes[1][1], legend=False, title=\"Vienna\")"
   ]
  },
  {
   "cell_type": "markdown",
   "metadata": {},
   "source": [
    "## 2. How many users have been mapping green spaces?"
   ]
  },
  {
   "cell_type": "markdown",
   "metadata": {},
   "source": [
    "Query the number of users who have mapped green spaces:"
   ]
  },
  {
   "cell_type": "code",
   "execution_count": 14,
   "metadata": {},
   "outputs": [],
   "source": [
    "fltr = \"({}) and type:way\".format(\" or \".join(tags))\n",
    "response_users_gs = client.users.count.groupByBoundary.post(bcircles=cities, \n",
    "                                                       time=time, \n",
    "                                                       filter=fltr)"
   ]
  },
  {
   "cell_type": "code",
   "execution_count": 15,
   "metadata": {},
   "outputs": [],
   "source": [
    "users_greenspace = response_users_gs.as_dataframe().droplevel(\"fromTimestamp\").rename(columns={\"value\": \"greenspace\"})"
   ]
  },
  {
   "cell_type": "markdown",
   "metadata": {},
   "source": [
    "Query the number of all active users (relations are excluded to save computation time)"
   ]
  },
  {
   "cell_type": "code",
   "execution_count": null,
   "metadata": {},
   "outputs": [],
   "source": [
    "response_users_all = client.users.count.groupByBoundary.post(bcircles=cities, \n",
    "                                                       time=time, \n",
    "                                                       filter=\"type:node or type:way\")"
   ]
  },
  {
   "cell_type": "code",
   "execution_count": null,
   "metadata": {},
   "outputs": [],
   "source": [
    "users = response_users_all.as_dataframe().droplevel(\"fromTimestamp\").rename(columns={\"value\": \"overall\"})\n",
    "users = users.join(users_greenspace)\n",
    "users[\"perc\"] = users[\"greenspace\"] / users[\"overall\"] * 100"
   ]
  },
  {
   "cell_type": "code",
   "execution_count": null,
   "metadata": {},
   "outputs": [],
   "source": [
    "users.loc[:, \"perc\"].unstack(0).plot(title=\"Percentage of users mapping green spaces\", \n",
    "                                     figsize=(10, 5), ylabel=\"Users [%]\", )"
   ]
  },
  {
   "cell_type": "markdown",
   "metadata": {},
   "source": [
    "## 2. Are large green spaces tagged differently than small ones?\n",
    "\n",
    "In order to answer this question we first have to download the geometries of the public green spaces in OSM."
   ]
  },
  {
   "cell_type": "markdown",
   "metadata": {},
   "source": [
    "#### Download OSM green spaces"
   ]
  },
  {
   "cell_type": "code",
   "execution_count": null,
   "metadata": {
    "code_folding": [
     0
    ]
   },
   "outputs": [],
   "source": [
    "def reproject_to_utm(dataframe):\n",
    "    \"\"\" Reproject a dataframe with epsg:4326 to UTM in respective zone\n",
    "    Reprojects a dataframe to UTM\n",
    "    :param dataframe:\n",
    "    :return:\n",
    "    \"\"\"\n",
    "    center = box(*dataframe.total_bounds).centroid\n",
    "    utm_zone = utm.from_latlon(center.y, center.x)\n",
    "    proj4_string = '+proj=utm +zone=%s +datum=WGS84 +units=m +no_defs +ellps=WGS84 +towgs84=0,0,0' % utm_zone[2]\n",
    "\n",
    "    return dataframe.to_crs(proj4_string)"
   ]
  },
  {
   "cell_type": "code",
   "execution_count": null,
   "metadata": {
    "code_folding": []
   },
   "outputs": [],
   "source": [
    "greenspace_objects = {}\n",
    "for city, bcircles in cities.items():\n",
    "    print(\"Processing {} ...\".format(city))\n",
    "    response_geometry = client.elements.geometry.post(bcircles=bcircles, \n",
    "                                                       time=client.end_timestamp, \n",
    "                                                       properties=\"tags\",\n",
    "                                                       filter=\"({}) and type:way\".format(\" or \".join(tags)))\n",
    "    greenspace_city = response_geometry.as_dataframe().droplevel(1)#.loc[:,[\"leisure\", \"landuse\", \"geometry\"]]\n",
    "    greenspace_city[\"area\"] = reproject_to_utm(greenspace_city).area\n",
    "    # Create tag column\n",
    "    tag_series = []\n",
    "    for tag in tags:\n",
    "        k, v = tag.split(\"=\")\n",
    "        tag_series.append(pd.Series(tag, greenspace_city.loc[greenspace_city[k] == v].index))\n",
    "    tag_series = pd.concat(tag_series, axis=0)\n",
    "    greenspace_city[\"tag\"] = tag_series[~tag_series.index.duplicated(keep='first')]\n",
    "    greenspace_objects[city] = greenspace_city.loc[:,[\"tag\", \"area\", \"geometry\"]]\n",
    "    \n",
    "greenspaces = pd.concat(greenspace_objects.values(), axis=0, keys=greenspace_objects.keys(), names=[\"boundary\", \"@osmId\"])"
   ]
  },
  {
   "cell_type": "code",
   "execution_count": null,
   "metadata": {},
   "outputs": [],
   "source": [
    "greenspace_size = greenspaces.droplevel(\"@osmId\").set_index('tag', append=True)\n",
    "greenspace_size = greenspace_size.loc[(slice(None), tags), :]"
   ]
  },
  {
   "cell_type": "code",
   "execution_count": null,
   "metadata": {},
   "outputs": [],
   "source": [
    "fig, axes = plt.subplots(1,1, figsize=(10,5))\n",
    "sns.boxplot(x=\"boundary\", y=\"area\", hue=\"tag\",data=greenspace_size.reset_index(), ax=axes)\n",
    "axes.set(yscale=\"log\")\n",
    "axes.legend(loc=(1.03, 0.75), title_fontsize=\"x-large\")"
   ]
  },
  {
   "cell_type": "markdown",
   "metadata": {},
   "source": [
    "It seems like larger green space are usually tagged as _leisure=park_ while smaller ones are tagged as _leisure=garden_ or _landuse=grass_. In Kathmandu however, green spaces tagged as *leisure=village_green* have the biggest size. "
   ]
  },
  {
   "cell_type": "markdown",
   "metadata": {},
   "source": [
    "### Which kind of objects are mapped within green spaces?"
   ]
  },
  {
   "cell_type": "code",
   "execution_count": null,
   "metadata": {},
   "outputs": [],
   "source": [
    "search_osm_keys = [\"amenity\", \"leisure\", \"natural\", \"highway\"]"
   ]
  },
  {
   "cell_type": "code",
   "execution_count": null,
   "metadata": {
    "code_folding": [
     0
    ]
   },
   "outputs": [],
   "source": [
    "def count_tags_within_greenspaces(city, tag, time, groupByKeys):\n",
    "    subset = greenspace_size.sort_index().loc[city, tag]\n",
    "    subset = subset.loc[subset.geometry.apply(lambda x: isinstance(x, Polygon ) or isinstance(x, MultiPolygon))]\n",
    "    samples = subset.sample(min(250, len(subset)), random_state=51)\n",
    "    fltr = \"({}) and (type:way or type:node)\".format(\" or \".join([x + \"=*\" for x in groupByKeys]))\n",
    "    response_park = client.elements.count.groupByKey.post(bpolys=samples, \n",
    "                                                       time=time, \n",
    "                                                       groupByKeys=groupByKeys,\n",
    "                                                       filter=fltr)\n",
    "    return response_park.as_dataframe()"
   ]
  },
  {
   "cell_type": "code",
   "execution_count": null,
   "metadata": {},
   "outputs": [],
   "source": [
    "data_cities = {}\n",
    "for city in cities.keys():\n",
    "    print(\"Processing \" + city + \"...\")\n",
    "    data_tags = {}\n",
    "    for tag in tags:\n",
    "        data_tags[tag] = count_tags_within_greenspaces(city, tag, client.end_timestamp, search_osm_keys)\n",
    "    df_tags = pd.concat(data_tags.values(), axis=0, keys=data_tags.keys()).droplevel(2)\n",
    "    data_cities[city] = pd.DataFrame(df_tags.unstack())\n",
    "df_cities = pd.concat(data_cities.values(), axis=0, keys=data_cities.keys()).stack()"
   ]
  },
  {
   "cell_type": "code",
   "execution_count": null,
   "metadata": {},
   "outputs": [],
   "source": [
    "fig, axes = plt.subplots(2,2, figsize=(15,8), sharex=True, sharey=True)\n",
    "sns.barplot(x=\"level_0\", y=\"value\", hue=\"key\", data=df_cities.loc[\"London\"].reset_index(), ax=axes[0][0])\n",
    "axes[0][0].set_title(\"London\")\n",
    "sns.barplot(x=\"level_0\", y=\"value\", hue=\"key\", data=df_cities.loc[\"Tokyo\"].reset_index(), ax=axes[0][1])\n",
    "axes[0][1].set_title(\"Tokyo\")\n",
    "sns.barplot(x=\"level_0\", y=\"value\", hue=\"key\", data=df_cities.loc[\"Kathmandu\"].reset_index(), ax=axes[1][0])\n",
    "axes[1][0].set_title(\"Kathmandu\")\n",
    "sns.barplot(x=\"level_0\", y=\"value\", hue=\"key\", data=df_cities.loc[\"Vienna\"].reset_index(), ax=axes[1][1])\n",
    "axes[1][1].set_title(\"Vienna\")\n",
    "#sns.barplot(x=\"level_0\", y=\"value\", hue=\"key\", data=df_cities.loc[\"Berlin\"].reset_index(), ax=axes[0][0])\n",
    "#sns.barplot(x=\"level_0\", y=\"value\", hue=\"key\", data=df_cities.loc[\"Kathmandu\"].reset_index(), ax=axes[2][1])"
   ]
  },
  {
   "cell_type": "markdown",
   "metadata": {},
   "source": [
    "Green spaces tagged as _leisure=park_ contain a lot of objects such as benches, playgrounds or garbage bins. Green spaces with other tags contain usually very few objects.  "
   ]
  },
  {
   "cell_type": "code",
   "execution_count": null,
   "metadata": {},
   "outputs": [],
   "source": []
  }
 ],
 "metadata": {
  "kernelspec": {
   "display_name": "Python (ohsome-dev)",
   "language": "python",
   "name": "ohsomedev"
  },
  "language_info": {
   "codemirror_mode": {
    "name": "ipython",
    "version": 3
   },
   "file_extension": ".py",
   "mimetype": "text/x-python",
   "name": "python",
   "nbconvert_exporter": "python",
   "pygments_lexer": "ipython3",
   "version": "3.9.2"
  }
 },
 "nbformat": 4,
 "nbformat_minor": 2
}
